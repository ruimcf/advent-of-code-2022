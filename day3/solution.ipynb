{
 "cells": [
  {
   "cell_type": "code",
   "execution_count": 32,
   "metadata": {},
   "outputs": [
    {
     "name": "stdout",
     "output_type": "stream",
     "text": [
      "['s', 'H', 'n', 'F', 'G', 'j', 'b', 'f', 'V', 'Q', 'm', 'S', 'z', 's', 'w', 'h', 'R', 'P', 'B', 'V', 'G', 't', 'w', 'L', 'r', 'n', 'b', 'P', 'V', 'F', 'Q', 'S', 'W', 'J', 'N', 'b', 'j', 's', 'R', 'w', 'd', 'H', 'R', 'F', 'b', 'd', 'c', 'r', 'c', 'C', 'g', 'v', 'w', 'r', 'q', 'w', 'v', 'H', 'D', 'G', 'n', 'j', 'b', 'b', 'n', 'h', 'p', 'W', 'N', 's', 'M', 'j', 'Z', 'M', 'f', 'W', 'h', 's', 'h', 'l', 't', 'h', 'V', 'g', 'V', 'T', 'F', 'h', 'W', 'Q', 'h', 'L', 'T', 'r', 's', 'R', 'Z', 'P', 'm', 'M', 'z', 'G', 'z', 'T', 'g', 'T', 'j', 'W', 'S', 'n', 'j', 'Q', 'S', 'G', 'Q', 'c', 'J', 'h', 'Q', 'n', 'm', 'c', 'Z', 'B', 'h', 'P', 'g', 'T', 'j', 'g', 'L', 'm', 'T', 'w', 'P', 'N', 'P', 't', 'S', 'Z', 'j', 'z', 'J', 'Z', 'B', 'P', 'v', 'f', 'L', 'r', 'G', 't', 'Z', 'm', 'F', 'D', 'J', 's', 'N', 'P', 'l', 'W', 'S', 'c', 'n', 'j', 'N', 'F', 'L', 'f', 'r', 'B', 'h', 'H', 'Q', 'N', 'C', 'w', 'J', 'C', 'H', 'Q', 'D', 'p', 'Q', 't', 'Z', 'B', 'h', 'R', 's', 'L', 'h', 'M', 'v', 'z', 'g', 'C', 'f', 'v', 'c', 'G', 'm', 'J', 't', 'C', 'J', 'h', 'H', 'z', 'J', 'H', 's', 'm', 'g', 't', 'j', 'b', 'Q', 'L', 'w', 'B', 'z', 'w', 'Z', 'W', 'R', 'n', 'v', 'V', 'n', 'S', 'c', 't', 'z', 'W', 'n', 'V', 'f', 'N', 'D', 'V', 'p', 'W', 'S', 'L', 'V', 'G', 'J', 'Z', 'p', 'R', 'S', 'R', 'Z', 'D', 'F', 'p', 'l', 'd', 'h', 'f', 'V', 'j', 'p', 'n', 'f', 'F', 'm', 'R', 'r', 'p', 's', 'r', 'S', 'J', 'W', 'v', 'C', 'W', 'L', 'P', 'B', 'G', 'j', 'z', 'S', 'q', 'D', 'W', 'F', 'h', 'D', 'p', 'g', 'B', 's', 'n', 'Z', 'w']\n",
      "[19, 34, 14, 32, 33, 10, 2, 6, 48, 43, 13, 45, 26, 19, 23, 8, 44, 42, 28, 48, 33, 20, 23, 38, 18, 14, 2, 42, 48, 32, 43, 45, 49, 36, 40, 2, 10, 19, 44, 23, 4, 34, 44, 32, 2, 4, 3, 18, 3, 29, 7, 22, 23, 18, 17, 23, 22, 34, 30, 33, 14, 10, 2, 2, 14, 8, 16, 49, 40, 19, 39, 10, 52, 39, 6, 49, 8, 19, 8, 12, 20, 8, 48, 7, 48, 46, 32, 8, 49, 43, 8, 38, 46, 18, 19, 44, 52, 42, 13, 39, 26, 33, 26, 46, 7, 46, 10, 49, 45, 14, 10, 43, 45, 33, 43, 3, 36, 8, 43, 14, 13, 3, 52, 28, 8, 42, 7, 46, 10, 7, 38, 13, 46, 23, 42, 40, 42, 20, 45, 52, 10, 26, 36, 52, 28, 42, 22, 6, 38, 18, 33, 20, 52, 13, 32, 30, 36, 19, 40, 42, 12, 49, 45, 3, 14, 10, 40, 32, 38, 6, 18, 28, 8, 34, 43, 40, 29, 23, 36, 29, 34, 43, 30, 16, 43, 20, 52, 28, 8, 44, 19, 38, 8, 39, 22, 26, 7, 29, 6, 22, 3, 33, 13, 36, 20, 29, 36, 8, 34, 26, 36, 34, 19, 13, 7, 20, 10, 2, 43, 38, 23, 28, 26, 23, 52, 49, 44, 14, 22, 48, 14, 45, 3, 20, 26, 49, 14, 48, 6, 40, 30, 48, 16, 49, 45, 38, 48, 33, 36, 52, 16, 44, 45, 44, 52, 30, 32, 16, 12, 4, 8, 6, 48, 10, 16, 14, 6, 32, 13, 44, 18, 16, 19, 18, 45, 36, 49, 22, 29, 49, 38, 42, 28, 33, 10, 26, 45, 17, 30, 49, 32, 8, 30, 16, 7, 28, 19, 14, 52, 23]\n",
      "8176\n"
     ]
    }
   ],
   "source": [
    "file = open(\"input.txt\", \"r\")\n",
    "text = file.read()\n",
    "bagItems = text.split(\"\\n\")\n",
    "\n",
    "\n",
    "def splitBag(items):\n",
    "    halfway = int(len(items)/2)\n",
    "    return (items[0: halfway], items[halfway:])\n",
    "\n",
    "\n",
    "itemSplitted = [splitBag(items) for items in bagItems]\n",
    "\n",
    "commonLetter = []\n",
    "common = []\n",
    "for firstHalf, secondHalf in itemSplitted:\n",
    "    for char in firstHalf:\n",
    "        if char in secondHalf:\n",
    "            commonLetter.append(char)\n",
    "            if char.isupper():\n",
    "                common.append(ord(char) - 65 + 27)\n",
    "            else:\n",
    "                common.append(ord(char) - 96)\n",
    "            break\n",
    "\n",
    "print(commonLetter)\n",
    "print(common)\n",
    "print(sum(common))\n"
   ]
  },
  {
   "cell_type": "code",
   "execution_count": 33,
   "metadata": {},
   "outputs": [
    {
     "name": "stdout",
     "output_type": "stream",
     "text": [
      "['b', 'R', 'g', 'M', 'j', 'Z', 'd', 'J', 'm', 'f', 'm', 'L', 'Z', 'r', 'S', 'N', 'Q', 'C', 'd', 'W', 'V', 'T', 's', 'g', 'F', 'l', 'd', 'L', 'M', 'n', 'd', 'Z', 'Q', 'R', 'v', 'G', 'D', 'b', 'G', 't', 'N', 't', 'G', 'Q', 'g', 'v', 'L', 'v', 'g', 'c', 'j', 'W', 'd', 'V', 'P', 's', 'Z', 'C', 'W', 'p', 'n', 'M', 'd', 'f', 'Q', 'V', 'r', 'h', 'V', 'B', 'R', 'n', 'W', 'C', 'P', 'B', 'c', 'l', 'R', 'm', 's', 'N', 's', 'P', 'g', 'm', 'Q', 'Q', 'r', 'v', 'G', 'w', 'c', 'r', 'n', 'R', 'q', 'V', 'H', 'p']\n",
      "[2, 44, 7, 39, 10, 52, 4, 36, 13, 6, 13, 38, 52, 18, 45, 40, 43, 29, 4, 49, 48, 46, 19, 7, 32, 12, 4, 38, 39, 14, 4, 52, 43, 44, 22, 33, 30, 2, 33, 20, 40, 20, 33, 43, 7, 22, 38, 22, 7, 3, 10, 49, 4, 48, 42, 19, 52, 29, 49, 16, 14, 39, 4, 6, 43, 48, 18, 8, 48, 28, 44, 14, 49, 29, 42, 28, 3, 12, 44, 13, 19, 40, 19, 42, 7, 13, 43, 43, 18, 22, 33, 23, 3, 18, 14, 44, 17, 48, 34, 16]\n",
      "2689\n"
     ]
    }
   ],
   "source": [
    "file = open(\"input.txt\", \"r\")\n",
    "text = file.read()\n",
    "bagItems = text.split(\"\\n\")\n",
    "\n",
    "groupedItems = []\n",
    "\n",
    "\n",
    "for i in range(0, int(len(bagItems) / 3)):\n",
    "    index = i * 3\n",
    "    groupedItems.append(\n",
    "        (bagItems[index], bagItems[index+1], bagItems[index+2]))\n",
    "\n",
    "commonLetter = []\n",
    "common = []\n",
    "\n",
    "for firstGroup, secondGroup, thirdGroup in groupedItems:\n",
    "    for char in firstGroup:\n",
    "        if char in secondGroup and char in thirdGroup:\n",
    "            commonLetter.append(char)\n",
    "            if char.isupper():\n",
    "                common.append(ord(char) - 65 + 27)\n",
    "            else:\n",
    "                common.append(ord(char) - 96)\n",
    "            break\n",
    "\n",
    "\n",
    "print(commonLetter)\n",
    "print(common)\n",
    "print(sum(common))\n"
   ]
  }
 ],
 "metadata": {
  "kernelspec": {
   "display_name": "Python 3.9.6 64-bit",
   "language": "python",
   "name": "python3"
  },
  "language_info": {
   "codemirror_mode": {
    "name": "ipython",
    "version": 3
   },
   "file_extension": ".py",
   "mimetype": "text/x-python",
   "name": "python",
   "nbconvert_exporter": "python",
   "pygments_lexer": "ipython3",
   "version": "3.9.6"
  },
  "orig_nbformat": 4,
  "vscode": {
   "interpreter": {
    "hash": "31f2aee4e71d21fbe5cf8b01ff0e069b9275f58929596ceb00d14d90e3e16cd6"
   }
  }
 },
 "nbformat": 4,
 "nbformat_minor": 2
}
