{
 "cells": [
  {
   "cell_type": "code",
   "execution_count": 24,
   "metadata": {},
   "outputs": [
    {
     "name": "stdout",
     "output_type": "stream",
     "text": [
      "70764\n"
     ]
    }
   ],
   "source": [
    "file = open(\"input.txt\", \"r\")\n",
    "line = file.read()\n",
    "bags = line.split(\"\\n\\n\")\n",
    "\n",
    "caloriesByElf = [sum(map(lambda x: int(x), bag.splitlines())) for bag in bags]\n",
    "\n",
    "max = 0\n",
    "\n",
    "for elfCalories in caloriesByElf:\n",
    "    if elfCalories > max:\n",
    "        max = elfCalories\n",
    "\n",
    "print(max)\n"
   ]
  },
  {
   "cell_type": "code",
   "execution_count": 25,
   "metadata": {},
   "outputs": [
    {
     "name": "stdout",
     "output_type": "stream",
     "text": [
      "203905\n"
     ]
    }
   ],
   "source": [
    "caloriesByElf.sort(reverse=True)\n",
    "\n",
    "print(sum(caloriesByElf[0:3]))"
   ]
  }
 ],
 "metadata": {
  "kernelspec": {
   "display_name": "Python 3.9.6 64-bit",
   "language": "python",
   "name": "python3"
  },
  "language_info": {
   "codemirror_mode": {
    "name": "ipython",
    "version": 3
   },
   "file_extension": ".py",
   "mimetype": "text/x-python",
   "name": "python",
   "nbconvert_exporter": "python",
   "pygments_lexer": "ipython3",
   "version": "3.9.6"
  },
  "orig_nbformat": 4,
  "vscode": {
   "interpreter": {
    "hash": "31f2aee4e71d21fbe5cf8b01ff0e069b9275f58929596ceb00d14d90e3e16cd6"
   }
  }
 },
 "nbformat": 4,
 "nbformat_minor": 2
}
