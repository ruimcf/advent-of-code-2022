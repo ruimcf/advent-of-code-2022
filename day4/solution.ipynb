{
 "cells": [
  {
   "cell_type": "code",
   "execution_count": 9,
   "metadata": {},
   "outputs": [
    {
     "name": "stdout",
     "output_type": "stream",
     "text": [
      "471\n"
     ]
    }
   ],
   "source": [
    "file = open(\"input.txt\", \"r\")\n",
    "text = file.read()\n",
    "sectionPairs = text.split(\"\\n\")\n",
    "\n",
    "sectionPairs = [secondPair.split(\",\") for secondPair in sectionPairs]\n",
    "sectionPairs = [(([int(i) for i in first.split(\"-\")]), ([int(i) for i in second.split(\"-\")])) for first, second in sectionPairs]\n",
    "\n",
    "def isContained(one, two):\n",
    "    return one[0] >= two[0] and one[1] <= two[1]\n",
    "\n",
    "count = 0\n",
    "\n",
    "for first, second in sectionPairs:\n",
    "    if isContained(first, second) or isContained(second, first):\n",
    "        count += 1\n",
    "\n",
    "\n",
    "print(count)\n"
   ]
  },
  {
   "cell_type": "code",
   "execution_count": null,
   "metadata": {},
   "outputs": [],
   "source": [
    "def isOverlapped(one, two):\n",
    "    return one[0] <= two[0] and one[1] >= two[0]\n",
    "\n",
    "count = 0\n",
    "\n",
    "for first, second in sectionPairs:\n",
    "    if isOverlapped(first, second) or isOverlapped(second, first):\n",
    "        count += 1"
   ]
  },
  {
   "cell_type": "code",
   "execution_count": 10,
   "metadata": {},
   "outputs": [],
   "source": [
    "file = open(\"input.txt\", \"r\")\n",
    "text = file.read()\n",
    "bagItems = text.split(\"\\n\")\n"
   ]
  }
 ],
 "metadata": {
  "kernelspec": {
   "display_name": "Python 3.9.6 64-bit",
   "language": "python",
   "name": "python3"
  },
  "language_info": {
   "codemirror_mode": {
    "name": "ipython",
    "version": 3
   },
   "file_extension": ".py",
   "mimetype": "text/x-python",
   "name": "python",
   "nbconvert_exporter": "python",
   "pygments_lexer": "ipython3",
   "version": "3.9.6"
  },
  "orig_nbformat": 4,
  "vscode": {
   "interpreter": {
    "hash": "31f2aee4e71d21fbe5cf8b01ff0e069b9275f58929596ceb00d14d90e3e16cd6"
   }
  }
 },
 "nbformat": 4,
 "nbformat_minor": 2
}
